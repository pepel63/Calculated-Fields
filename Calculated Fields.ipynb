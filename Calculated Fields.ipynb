{
 "cells": [
  {
   "cell_type": "code",
   "execution_count": 1,
   "id": "1e464a30-8c50-4525-b7cc-cc3c53bcc973",
   "metadata": {},
   "outputs": [],
   "source": [
    "import pandas as pd"
   ]
  },
  {
   "cell_type": "code",
   "execution_count": 13,
   "id": "153833e4-ed7f-40d8-88d4-66f7ea9a6e4b",
   "metadata": {},
   "outputs": [
    {
     "data": {
      "text/plain": [
       "array(['car_ID', 'symboling', 'CarName', 'fueltype', 'aspiration',\n",
       "       'doornumber', 'carbody', 'drivewheel', 'enginelocation',\n",
       "       'wheelbase', 'carlength', 'carwidth', 'carheight', 'curbweight',\n",
       "       'enginetype', 'cylindernumber', 'enginesize', 'fuelsystem',\n",
       "       'boreratio', 'stroke', 'compressionratio', 'horsepower', 'peakrpm',\n",
       "       'citympg', 'highwaympg', 'price'], dtype=object)"
      ]
     },
     "execution_count": 13,
     "metadata": {},
     "output_type": "execute_result"
    }
   ],
   "source": [
    "auto_data = pd.read_csv(\"Automobile.csv\")\n",
    "\n",
    "\n",
    "auto_data\n",
    "auto_data.columns.values\n"
   ]
  },
  {
   "cell_type": "code",
   "execution_count": 26,
   "id": "2db02e97-e1ef-46b4-ab7c-cb1e8bb1b295",
   "metadata": {},
   "outputs": [
    {
     "name": "stdout",
     "output_type": "stream",
     "text": [
      "     carlength  carwidth  carheight      volume\n",
      "0        168.8      64.1       48.8  528019.904\n",
      "1        168.8      64.1       48.8  528019.904\n",
      "2        171.2      65.5       52.4  587592.640\n",
      "3        176.6      66.2       54.3  634816.956\n",
      "4        176.6      66.4       54.3  636734.832\n",
      "..         ...       ...        ...         ...\n",
      "200      188.8      68.9       55.5  721961.760\n",
      "201      188.8      68.8       55.5  720913.920\n",
      "202      188.8      68.9       55.5  721961.760\n",
      "203      188.8      68.9       55.5  721961.760\n",
      "204      188.8      68.9       55.5  721961.760\n",
      "\n",
      "[205 rows x 4 columns]\n"
     ]
    }
   ],
   "source": [
    "auto_data = pd.read_csv(\"Automobile.csv\")\n",
    "\n",
    "auto_data['volume']=auto_data['carlength']*auto_data['carwidth']*auto_data['carheight']\n",
    "\n",
    "print(auto_data[['carlength', 'carwidth', 'carheight', 'volume']])\n"
   ]
  },
  {
   "cell_type": "code",
   "execution_count": 6,
   "id": "a95c5911-7308-4ad8-a5e5-fb8f5ad406e4",
   "metadata": {},
   "outputs": [
    {
     "name": "stdout",
     "output_type": "stream",
     "text": [
      "Sorted in ascending order by length:\n",
      "    car_ID  symboling            CarName fueltype aspiration doornumber  \\\n",
      "18      19          2   chevrolet impala      gas        std        two   \n",
      "30      31          2        honda civic      gas        std        two   \n",
      "31      32          2   honda civic cvcc      gas        std        two   \n",
      "34      35          1   honda civic cvcc      gas        std        two   \n",
      "33      34          1  honda accord cvcc      gas        std        two   \n",
      "\n",
      "      carbody drivewheel enginelocation  wheelbase  ...  enginesize  \\\n",
      "18  hatchback        fwd          front       88.4  ...          61   \n",
      "30  hatchback        fwd          front       86.6  ...          92   \n",
      "31  hatchback        fwd          front       86.6  ...          92   \n",
      "34  hatchback        fwd          front       93.7  ...          92   \n",
      "33  hatchback        fwd          front       93.7  ...          92   \n",
      "\n",
      "    fuelsystem  boreratio  stroke compressionratio horsepower  peakrpm  \\\n",
      "18        2bbl       2.91    3.03              9.5         48     5100   \n",
      "30        1bbl       2.91    3.41              9.6         58     4800   \n",
      "31        1bbl       2.91    3.41              9.2         76     6000   \n",
      "34        1bbl       2.91    3.41              9.2         76     6000   \n",
      "33        1bbl       2.91    3.41              9.2         76     6000   \n",
      "\n",
      "   citympg  highwaympg   price  \n",
      "18      47          53  5151.0  \n",
      "30      49          54  6479.0  \n",
      "31      31          38  6855.0  \n",
      "34      30          34  7129.0  \n",
      "33      30          34  6529.0  \n",
      "\n",
      "[5 rows x 26 columns]\n",
      "\n",
      "Sorted in descending order by length:\n",
      "    car_ID  symboling                  CarName fueltype aspiration doornumber  \\\n",
      "73      74          0    buick century special      gas        std       four   \n",
      "70      71         -1            buick skyhawk   diesel      turbo       four   \n",
      "71      72         -1  buick opel isuzu deluxe      gas        std       four   \n",
      "48      49          0                jaguar xf      gas        std       four   \n",
      "47      48          0                jaguar xj      gas        std       four   \n",
      "\n",
      "   carbody drivewheel enginelocation  wheelbase  ...  enginesize  fuelsystem  \\\n",
      "73   sedan        rwd          front      120.9  ...         308        mpfi   \n",
      "70   sedan        rwd          front      115.6  ...         183         idi   \n",
      "71   sedan        rwd          front      115.6  ...         234        mpfi   \n",
      "48   sedan        rwd          front      113.0  ...         258        mpfi   \n",
      "47   sedan        rwd          front      113.0  ...         258        mpfi   \n",
      "\n",
      "    boreratio  stroke compressionratio horsepower  peakrpm citympg  \\\n",
      "73       3.80    3.35              8.0        184     4500      14   \n",
      "70       3.58    3.64             21.5        123     4350      22   \n",
      "71       3.46    3.10              8.3        155     4750      16   \n",
      "48       3.63    4.17              8.1        176     4750      15   \n",
      "47       3.63    4.17              8.1        176     4750      15   \n",
      "\n",
      "    highwaympg    price  \n",
      "73          16  40960.0  \n",
      "70          25  31600.0  \n",
      "71          18  34184.0  \n",
      "48          19  35550.0  \n",
      "47          19  32250.0  \n",
      "\n",
      "[5 rows x 26 columns]\n"
     ]
    }
   ],
   "source": [
    "\n",
    "\n",
    "\n",
    "\n",
    "\n",
    "# Load the dataset\n",
    "auto_data = pd.read_csv(\"Automobile.csv\")\n",
    "\n",
    "# Sort the dataset on 'carlength' in ascending order\n",
    "sorted_ascending = auto_data.sort_values(by='carlength')\n",
    "\n",
    "# Sort the dataset on 'carlength' in descending order\n",
    "sorted_descending = auto_data.sort_values(by='carlength', ascending=False)\n",
    "\n",
    "# Display the first few rows of the sorted DataFrames\n",
    "print(\"Sorted in ascending order by length:\")\n",
    "print(sorted_ascending.head())\n",
    "print(\"\\nSorted in descending order by length:\")\n",
    "print(sorted_descending.head())"
   ]
  },
  {
   "cell_type": "code",
   "execution_count": 7,
   "id": "4adf1a54-b499-4bf5-907f-4ef7fb0d3e10",
   "metadata": {},
   "outputs": [
    {
     "name": "stdout",
     "output_type": "stream",
     "text": [
      "      cust_id  num_rooms  num_people  housearea  is_ac  is_tv  is_flat  \\\n",
      "0           1          3           3     742.57      1      1        1   \n",
      "1           2          1           5     952.99      0      1        0   \n",
      "2           3          3           1     761.44      1      1        1   \n",
      "3           4          0           5     861.32      1      1        0   \n",
      "4           5          1           8     731.61      0      1        0   \n",
      "...       ...        ...         ...        ...    ...    ...      ...   \n",
      "1001      972          2           4     925.83      0      1        0   \n",
      "1002      972          2           4     925.83      0      1        0   \n",
      "1003      974          2           7     729.12      0      1        0   \n",
      "1004      975          3           3     829.61      0      1        0   \n",
      "1005      976          1           8     909.63      1      1        1   \n",
      "\n",
      "      ave_monthly_income  num_children  is_urban  amount_paid  \n",
      "0                9675.93             2         0   560.481447  \n",
      "1               35064.79             1         1   633.283679  \n",
      "2               22292.44             0         0   511.879157  \n",
      "3               12139.08             0         0   332.992035  \n",
      "4               17230.10             2         1   658.285625  \n",
      "...                  ...           ...       ...          ...  \n",
      "1001            36063.58             2         0   474.695230  \n",
      "1002            36063.58             2         0   474.695230  \n",
      "1003            29066.20             0         1   655.215163  \n",
      "1004            29728.82             1         1   568.092103  \n",
      "1005            10084.09             1         1   853.442670  \n",
      "\n",
      "[1006 rows x 11 columns]\n"
     ]
    }
   ],
   "source": [
    "#identifying and removing duplicates\n",
    "\n",
    "bill_data= pd.read_csv(\"billdata.csv\")\n",
    "bill_data.columns.values\n",
    "print(bill_data)\n"
   ]
  },
  {
   "cell_type": "code",
   "execution_count": 8,
   "id": "76e42cbc-21e0-40d6-999f-9b22a1832bab",
   "metadata": {},
   "outputs": [
    {
     "name": "stdout",
     "output_type": "stream",
     "text": [
      "0       False\n",
      "1       False\n",
      "2       False\n",
      "3       False\n",
      "4       False\n",
      "        ...  \n",
      "1001     True\n",
      "1002     True\n",
      "1003     True\n",
      "1004     True\n",
      "1005     True\n",
      "Length: 1006, dtype: bool\n"
     ]
    }
   ],
   "source": [
    "#identify duplicates records in the data\n",
    "dupes=bill_data.duplicated()\n",
    "print(dupes)"
   ]
  },
  {
   "cell_type": "code",
   "execution_count": 9,
   "id": "cc81d804-fdb0-45be-bd4e-33f7c62d0648",
   "metadata": {},
   "outputs": [
    {
     "data": {
      "text/plain": [
       "(1000, 11)"
      ]
     },
     "execution_count": 9,
     "metadata": {},
     "output_type": "execute_result"
    }
   ],
   "source": [
    "#remove duplicates\n",
    "bill_data.shape\n",
    "bill_data_uniq=bill_data.drop_duplicates()\n",
    "bill_data_uniq.shape"
   ]
  },
  {
   "cell_type": "code",
   "execution_count": 23,
   "id": "5f3ee24c-7b8b-4ddb-bd16-7346a91c3774",
   "metadata": {},
   "outputs": [
    {
     "name": "stdout",
     "output_type": "stream",
     "text": [
      "6\n"
     ]
    }
   ],
   "source": [
    "#handling duplicates in python\n",
    "sum(bill_data.cust_id.duplicated())\n",
    "print(sum(bill_data.cust_id.duplicated()))"
   ]
  },
  {
   "cell_type": "code",
   "execution_count": 19,
   "id": "3884a4e9-b55d-429b-888b-863381e2e4db",
   "metadata": {},
   "outputs": [
    {
     "name": "stdout",
     "output_type": "stream",
     "text": [
      "     cust_id  num_rooms  num_people  housearea  is_ac  is_tv  is_flat  \\\n",
      "0          1          3           3     742.57      1      1        1   \n",
      "1          2          1           5     952.99      0      1        0   \n",
      "2          3          3           1     761.44      1      1        1   \n",
      "3          4          0           5     861.32      1      1        0   \n",
      "4          5          1           8     731.61      0      1        0   \n",
      "..       ...        ...         ...        ...    ...    ...      ...   \n",
      "995      996          3           0     991.31      0      1        0   \n",
      "996      997          2           5     847.97      0      1        0   \n",
      "997      998          2           4     660.94      1      0        0   \n",
      "998      999          1           1     814.75      0      1        1   \n",
      "999     1000          1           6     835.43      0      0        0   \n",
      "\n",
      "     ave_monthly_income  num_children  is_urban  amount_paid  \n",
      "0               9675.93             2         0   560.481447  \n",
      "1              35064.79             1         1   633.283679  \n",
      "2              22292.44             0         0   511.879157  \n",
      "3              12139.08             0         0   332.992035  \n",
      "4              17230.10             2         1   658.285625  \n",
      "..                  ...           ...       ...          ...  \n",
      "995            12687.26             1         1   655.870111  \n",
      "996            39502.92             0         0   354.472693  \n",
      "997            10145.17             0         1   568.660550  \n",
      "998            15535.05             0         1   653.423314  \n",
      "999            22204.00             0         1   537.801005  \n",
      "\n",
      "[1000 rows x 11 columns]\n"
     ]
    }
   ],
   "source": [
    "#Removing duplicates based on a variable\n",
    "bill_data.shape\n",
    "bill_data_uniq=bill_data.drop_duplicates(['cust_id'])\n",
    "bill_data_uniq.shape\n",
    "print(bill_data_uniq)"
   ]
  },
  {
   "cell_type": "code",
   "execution_count": 12,
   "id": "e15431a3-6bdb-4cb3-97f6-6b8a7e52720e",
   "metadata": {},
   "outputs": [
    {
     "name": "stdout",
     "output_type": "stream",
     "text": [
      "Duplicate Records:\n",
      "      cust_id Ticket #                                 Customer Complaint  \\\n",
      "2224     1966   218097     Monthly Rate Confusion & Poor Customer Support   \n",
      "2225     1870   238513                                           Comcast.   \n",
      "2226      116   358601                                           Data cap   \n",
      "2227     1087   342487                           Billing fraud by Comcast   \n",
      "2228      899   362687  Poor customer service, terrible Internet speed...   \n",
      "\n",
      "            Date Date_month_year         Time        Received Via  \\\n",
      "2224  04-04-2015       04-Apr-15   6:20:50 PM            Internet   \n",
      "2225    16-04-15       16-Apr-15   3:21:48 AM            Internet   \n",
      "2226    23-06-15       23-Jun-15   2:21:23 PM            Internet   \n",
      "2227    15-06-15       15-Jun-15  11:40:30 PM            Internet   \n",
      "2228    24-06-15       24-Jun-15   4:27:43 PM  Customer Care Call   \n",
      "\n",
      "              City       State  Zip code   Status Filing on Behalf of Someone  \n",
      "2224  St Augustine     Florida     32080   Closed                          No  \n",
      "2225       Seattle  Washington     98178   Closed                          No  \n",
      "2226       Atlanta     Georgia     30306  Pending                          No  \n",
      "2227   Lake Oswego      Oregon     97035   Solved                          No  \n",
      "2228   Hudsonville    Michigan     49426     Open                          No  \n",
      "Dataset after removing overall duplicates:\n",
      "      cust_id Ticket #                                 Customer Complaint  \\\n",
      "0           1   250635                      Comcast Cable Internet Speeds   \n",
      "1           2   223441       Payment disappear - service got disconnected   \n",
      "2           3   242732                                  Speed and Service   \n",
      "3           4   277946  Comcast Imposed a New Usage Cap of 300GB that ...   \n",
      "4           5   307175         Comcast not working and no service to boot   \n",
      "...       ...      ...                                                ...   \n",
      "2219     2220   213550                               Service Availability   \n",
      "2220     2221   318775         Comcast Monthly Billing for Returned Modem   \n",
      "2221     2222   331188                            complaint about comcast   \n",
      "2222     2223   360489             Extremely unsatisfied Comcast customer   \n",
      "2223     2224   363614               Comcast, Ypsilanti MI Internet Speed   \n",
      "\n",
      "            Date Date_month_year         Time        Received Via        City  \\\n",
      "0       22-04-15       22-Apr-15   3:53:50 PM  Customer Care Call    Abingdon   \n",
      "1     08-04-2015       04-Aug-15  10:22:56 AM            Internet     Acworth   \n",
      "2       18-04-15       18-Apr-15   9:55:47 AM            Internet     Acworth   \n",
      "3     07-05-2015       05-Jul-15  11:59:35 AM            Internet     Acworth   \n",
      "4       26-05-15       26-May-15   1:25:26 PM            Internet     Acworth   \n",
      "...          ...             ...          ...                 ...         ...   \n",
      "2219  02-04-2015       04-Feb-15   9:13:18 AM  Customer Care Call  Youngstown   \n",
      "2220  02-06-2015       06-Feb-15   1:24:39 PM  Customer Care Call   Ypsilanti   \n",
      "2221  09-06-2015       06-Sep-15   5:28:41 PM            Internet   Ypsilanti   \n",
      "2222    23-06-15       23-Jun-15  11:13:30 PM  Customer Care Call   Ypsilanti   \n",
      "2223    24-06-15       24-Jun-15  10:28:33 PM  Customer Care Call   Ypsilanti   \n",
      "\n",
      "         State  Zip code  Status Filing on Behalf of Someone  \n",
      "0     Maryland     21009  Closed                          No  \n",
      "1      Georgia     30102  Closed                          No  \n",
      "2      Georgia     30101  Closed                         Yes  \n",
      "3      Georgia     30101    Open                         Yes  \n",
      "4      Georgia     30101  Solved                          No  \n",
      "...        ...       ...     ...                         ...  \n",
      "2219   Florida     32466  Closed                          No  \n",
      "2220  Michigan     48197  Solved                          No  \n",
      "2221  Michigan     48197  Solved                          No  \n",
      "2222  Michigan     48197  Solved                          No  \n",
      "2223  Michigan     48198    Open                         Yes  \n",
      "\n",
      "[2224 rows x 12 columns]\n",
      "Duplicate Records based on cust_id:\n",
      "      cust_id Ticket #                                 Customer Complaint  \\\n",
      "2224     1966   218097     Monthly Rate Confusion & Poor Customer Support   \n",
      "2225     1870   238513                                           Comcast.   \n",
      "2226      116   358601                                           Data cap   \n",
      "2227     1087   342487                           Billing fraud by Comcast   \n",
      "2228      899   362687  Poor customer service, terrible Internet speed...   \n",
      "\n",
      "            Date Date_month_year         Time        Received Via  \\\n",
      "2224  04-04-2015       04-Apr-15   6:20:50 PM            Internet   \n",
      "2225    16-04-15       16-Apr-15   3:21:48 AM            Internet   \n",
      "2226    23-06-15       23-Jun-15   2:21:23 PM            Internet   \n",
      "2227    15-06-15       15-Jun-15  11:40:30 PM            Internet   \n",
      "2228    24-06-15       24-Jun-15   4:27:43 PM  Customer Care Call   \n",
      "\n",
      "              City       State  Zip code   Status Filing on Behalf of Someone  \n",
      "2224  St Augustine     Florida     32080   Closed                          No  \n",
      "2225       Seattle  Washington     98178   Closed                          No  \n",
      "2226       Atlanta     Georgia     30306  Pending                          No  \n",
      "2227   Lake Oswego      Oregon     97035   Solved                          No  \n",
      "2228   Hudsonville    Michigan     49426     Open                          No  \n",
      "Dataset after removing duplicates based on cust_id:\n",
      "      cust_id Ticket #                                 Customer Complaint  \\\n",
      "0           1   250635                      Comcast Cable Internet Speeds   \n",
      "1           2   223441       Payment disappear - service got disconnected   \n",
      "2           3   242732                                  Speed and Service   \n",
      "3           4   277946  Comcast Imposed a New Usage Cap of 300GB that ...   \n",
      "4           5   307175         Comcast not working and no service to boot   \n",
      "...       ...      ...                                                ...   \n",
      "2219     2220   213550                               Service Availability   \n",
      "2220     2221   318775         Comcast Monthly Billing for Returned Modem   \n",
      "2221     2222   331188                            complaint about comcast   \n",
      "2222     2223   360489             Extremely unsatisfied Comcast customer   \n",
      "2223     2224   363614               Comcast, Ypsilanti MI Internet Speed   \n",
      "\n",
      "            Date Date_month_year         Time        Received Via        City  \\\n",
      "0       22-04-15       22-Apr-15   3:53:50 PM  Customer Care Call    Abingdon   \n",
      "1     08-04-2015       04-Aug-15  10:22:56 AM            Internet     Acworth   \n",
      "2       18-04-15       18-Apr-15   9:55:47 AM            Internet     Acworth   \n",
      "3     07-05-2015       05-Jul-15  11:59:35 AM            Internet     Acworth   \n",
      "4       26-05-15       26-May-15   1:25:26 PM            Internet     Acworth   \n",
      "...          ...             ...          ...                 ...         ...   \n",
      "2219  02-04-2015       04-Feb-15   9:13:18 AM  Customer Care Call  Youngstown   \n",
      "2220  02-06-2015       06-Feb-15   1:24:39 PM  Customer Care Call   Ypsilanti   \n",
      "2221  09-06-2015       06-Sep-15   5:28:41 PM            Internet   Ypsilanti   \n",
      "2222    23-06-15       23-Jun-15  11:13:30 PM  Customer Care Call   Ypsilanti   \n",
      "2223    24-06-15       24-Jun-15  10:28:33 PM  Customer Care Call   Ypsilanti   \n",
      "\n",
      "         State  Zip code  Status Filing on Behalf of Someone  \n",
      "0     Maryland     21009  Closed                          No  \n",
      "1      Georgia     30102  Closed                          No  \n",
      "2      Georgia     30101  Closed                         Yes  \n",
      "3      Georgia     30101    Open                         Yes  \n",
      "4      Georgia     30101  Solved                          No  \n",
      "...        ...       ...     ...                         ...  \n",
      "2219   Florida     32466  Closed                          No  \n",
      "2220  Michigan     48197  Solved                          No  \n",
      "2221  Michigan     48197  Solved                          No  \n",
      "2222  Michigan     48197  Solved                          No  \n",
      "2223  Michigan     48198    Open                         Yes  \n",
      "\n",
      "[2224 rows x 12 columns]\n"
     ]
    }
   ],
   "source": [
    "# Load the dataset\n",
    "telecom_complaints = pd.read_csv(\"telecom_complaints.csv\")\n",
    "\n",
    "# Identify duplicates records in the data\n",
    "duplicates = telecom_complaints.duplicated()\n",
    "print(\"Duplicate Records:\")\n",
    "print(telecom_complaints[duplicates])\n",
    "\n",
    "# Create a new dataset by removing overall duplicates in complaints data\n",
    "telecom_complaints_no_duplicates = telecom_complaints.drop_duplicates()\n",
    "print(\"Dataset after removing overall duplicates:\")\n",
    "print(telecom_complaints_no_duplicates)\n",
    "\n",
    "# Identify duplicates in complaints data based on cust_id\n",
    "duplicates_cust_id = telecom_complaints.duplicated(subset=['cust_id'])\n",
    "print(\"Duplicate Records based on cust_id:\")\n",
    "print(telecom_complaints[duplicates_cust_id])\n",
    "\n",
    "# Create a new dataset by removing duplicates in complaints data based on cust_id\n",
    "telecom_complaints_no_duplicates_cust_id = telecom_complaints.drop_duplicates(subset=['cust_id'])\n",
    "print(\"Dataset after removing duplicates based on cust_id:\")\n",
    "print(telecom_complaints_no_duplicates_cust_id)"
   ]
  },
  {
   "cell_type": "code",
   "execution_count": null,
   "id": "9e2805e5-df52-4fc4-99a6-f3844e490204",
   "metadata": {},
   "outputs": [],
   "source": []
  }
 ],
 "metadata": {
  "kernelspec": {
   "display_name": "Python 3 (ipykernel)",
   "language": "python",
   "name": "python3"
  },
  "language_info": {
   "codemirror_mode": {
    "name": "ipython",
    "version": 3
   },
   "file_extension": ".py",
   "mimetype": "text/x-python",
   "name": "python",
   "nbconvert_exporter": "python",
   "pygments_lexer": "ipython3",
   "version": "3.11.7"
  }
 },
 "nbformat": 4,
 "nbformat_minor": 5
}
